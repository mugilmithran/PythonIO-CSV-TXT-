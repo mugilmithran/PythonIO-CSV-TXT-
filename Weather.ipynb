{
 "cells": [
  {
   "cell_type": "code",
   "execution_count": 2,
   "id": "47b44e71-b876-495c-b492-e09c529325c7",
   "metadata": {},
   "outputs": [],
   "source": [
    "import csv"
   ]
  },
  {
   "cell_type": "code",
   "execution_count": 94,
   "id": "1995c8c3-37ee-42ed-af1d-6f1e099b0155",
   "metadata": {},
   "outputs": [],
   "source": [
    "# Creating CSV file with 10 days temperatures information.\n",
    "\n",
    "weather_data = [{'Hi_temperatures(F)': 76, 'Low_temperatures(F)': 68, 'Feel_like_temperature(F)': 75, 'Rain_rate(IN)': 0.592, 'Humidity(%)': 79},\n",
    "               {'Hi_temperatures(F)': 89, 'Low_temperatures(F)': 60, 'Feel_like_temperature(F)': 84, 'Rain_rate(IN)': 0.046, 'Humidity(%)': 90},\n",
    "               {'Hi_temperatures(F)': 98, 'Low_temperatures(F)': 60, 'Feel_like_temperature(F)': 102, 'Rain_rate(IN)': 0.608, 'Humidity(%)': 63},\n",
    "               {'Hi_temperatures(F)': 84, 'Low_temperatures(F)': 53, 'Feel_like_temperature(F)': 84, 'Rain_rate(IN)': 0.171, 'Humidity(%)': 27},\n",
    "               {'Hi_temperatures(F)': 80, 'Low_temperatures(F)': 57, 'Feel_like_temperature(F)': 83, 'Rain_rate(IN)': 0.065, 'Humidity(%)': 66},\n",
    "               {'Hi_temperatures(F)': 77, 'Low_temperatures(F)': 52, 'Feel_like_temperature(F)': 72, 'Rain_rate(IN)': 0.949, 'Humidity(%)': 54},\n",
    "               {'Hi_temperatures(F)': 98, 'Low_temperatures(F)': 51, 'Feel_like_temperature(F)': 102, 'Rain_rate(IN)': 0.966, 'Humidity(%)': 97},\n",
    "               {'Hi_temperatures(F)': 90, 'Low_temperatures(F)': 61, 'Feel_like_temperature(F)': 87, 'Rain_rate(IN)': 0.808, 'Humidity(%)': 55},\n",
    "               {'Hi_temperatures(F)': 76, 'Low_temperatures(F)': -22, 'Feel_like_temperature(F)': 77, 'Rain_rate(IN)': 0.305, 'Humidity(%)': 69},\n",
    "               {'Hi_temperatures(F)': 95, 'Low_temperatures(F)': -13, 'Feel_like_temperature(F)': 93, 'Rain_rate(IN)': 0.098, 'Humidity(%)': 23}\n",
    "]\n",
    "\n",
    "weather_field = [\"Hi_temperatures(F)\", \"Low_temperatures(F)\", \"Feel_like_temperature(F)\", \"Rain_rate(IN)\", \"Humidity(%)\"]\n",
    "\n",
    "filename = \"weather.csv\"\n",
    "\n",
    "with open(filename, 'w', newline='') as csvfile:\n",
    "    writer = csv.DictWriter(csvfile, fieldnames = weather_field)\n",
    "    writer.writeheader()\n",
    "    writer.writerows(weather_data)"
   ]
  },
  {
   "cell_type": "code",
   "execution_count": 93,
   "id": "e6f571ae-c1f8-4271-9c14-fa121d46d646",
   "metadata": {},
   "outputs": [
    {
     "name": "stdout",
     "output_type": "stream",
     "text": [
      "weather_info:  [[76.0, 68.0, 75.0, 0.592, 79.0], [89.0, 60.0, 84.0, 0.046, 90.0], [98.0, 60.0, 102.0, 0.608, 63.0], [84.0, 53.0, 84.0, 0.171, 27.0], [80.0, 57.0, 83.0, 0.065, 66.0], [77.0, 52.0, 72.0, 0.949, 54.0], [98.0, 51.0, 102.0, 0.966, 97.0], [90.0, 61.0, 87.0, 0.808, 55.0], [76.0, -22.0, 77.0, 0.305, 69.0], [95.0, -13.0, 93.0, 0.098, 23.0]]\n"
     ]
    }
   ],
   "source": [
    "# Reading the created csv file and storing it into a list.\n",
    "\n",
    "weather_info = []\n",
    "\n",
    "with open(\"weather.csv\", \"r\") as file:\n",
    "    reader = csv.reader(file)\n",
    "    next(reader)\n",
    "    for row in reader:\n",
    "        weather_info.append([float(value) for value in row])\n",
    "\n",
    "print(\"weather_info: \", weather_info)"
   ]
  },
  {
   "cell_type": "code",
   "execution_count": 95,
   "id": "b3812291-8b44-43fd-a254-4c6d55c1d1e9",
   "metadata": {},
   "outputs": [
    {
     "name": "stdout",
     "output_type": "stream",
     "text": [
      "Average temperatures:  [72.0, 74.5, 79.0, 68.5, 68.5, 64.5, 74.5, 75.5, 27.0, 41.0]\n",
      "Hi temperatures: [76.0, 89.0, 98.0, 84.0, 80.0, 77.0, 98.0, 90.0, 76.0, 95.0]\n",
      "Low temperatures: [68.0, 60.0, 60.0, 53.0, 57.0, 52.0, 51.0, 61.0, -22.0, -13.0]\n",
      "Highest Hi:  98.0\n",
      "Lowest Hi:  76.0\n",
      "Highest Low:  68.0\n",
      "Lowest Low:  -22.0\n"
     ]
    }
   ],
   "source": [
    "# Calculating average temperatures, highest_hi_temp, lowest_hi_temp, highest_low_temp and lowest_low_temp\n",
    "\n",
    "average_temperatures = []\n",
    "hi_temp = []\n",
    "low_temp = []\n",
    "\n",
    "for data in weather_info:\n",
    "    hi = data[0]\n",
    "    low = data[1]\n",
    "    avg_temp = (hi + low)/2\n",
    "    average_temperatures.append(avg_temp)\n",
    "    hi_temp.append(hi)\n",
    "    low_temp.append(low)\n",
    "\n",
    "highest_hi_temp = max(hi_temp)\n",
    "lowest_hi_temp = min(hi_temp)\n",
    "highest_low_temp = max(low_temp)\n",
    "lowest_low_temp = min(low_temp)\n",
    "\n",
    "print(\"Average temperatures: \", average_temperatures)\n",
    "print(\"Hi temperatures:\", hi_temp)\n",
    "print(\"Low temperatures:\", low_temp)\n",
    "print(\"Highest Hi: \", highest_hi_temp)\n",
    "print(\"Lowest Hi: \", lowest_hi_temp)\n",
    "print(\"Highest Low: \", highest_low_temp)\n",
    "print(\"Lowest Low: \", lowest_low_temp)\n",
    "\n",
    "\n",
    "\n",
    "\n",
    "\n"
   ]
  },
  {
   "cell_type": "code",
   "execution_count": 96,
   "id": "aa35b8ec-8ad5-4ebe-b39b-44152ba367d0",
   "metadata": {},
   "outputs": [],
   "source": [
    "# Writing the information to a new CSV file.\n",
    "\n",
    "weather_data = [[\"Day\", \"Average_Temperature\"], [1, 72.0], [2, 74.5], [3, 79.0], [4, 68.5], [5, 68.5], [6, 64.5], [7, 74.5], [8, 75.5], [9, 27.0], [10, 41.0], [\"\\n\"],\n",
    "                [\"Highest_of_High\", highest_hi_temp], [\"\\n\"],\n",
    "                [\"Lowest_of_High\", lowest_hi_temp], [\"\\n\"],\n",
    "                [\"Highest_of_Low\", highest_low_temp], [\"\\n\"],\n",
    "                [\"Lowest_of_Low\", lowest_low_temp],\n",
    "]\n",
    "\n",
    "with open(\"weather_data_summary.csv\", \"w\", newline=\"\") as outfile:\n",
    "    writer = csv.writer(outfile)\n",
    "    writer.writerows(weather_data)\n",
    "    "
   ]
  },
  {
   "cell_type": "code",
   "execution_count": 153,
   "id": "4b9fd142-a7e0-41e8-9054-bb003d8ba725",
   "metadata": {},
   "outputs": [],
   "source": [
    "# With 'Text' file\n",
    "# Creating txt file with 10 days temperatures information.\n",
    "\n",
    "with open(\"weather.txt\", \"w\") as outfile:\n",
    "    with open(\"weather.csv\", \"r\") as infile:\n",
    "        for row in csv.reader(infile):\n",
    "            outfile.write(\" \".join(row) + \"\\n\")"
   ]
  },
  {
   "cell_type": "code",
   "execution_count": 159,
   "id": "f95a8bb2-a1c2-4101-ab5e-8461b2cbfd5f",
   "metadata": {},
   "outputs": [],
   "source": [
    "# Reading the created txt file and storing it into a list.\n",
    "\n",
    "def weather_data(filename):\n",
    "    with open(filename, 'r') as file:\n",
    "        lines = file.readlines()[1:]\n",
    "    return lines\n",
    "\n",
    "\n",
    "weather_data_list = weather_data(\"weather.txt\")\n"
   ]
  },
  {
   "cell_type": "code",
   "execution_count": 160,
   "id": "db7473f9-b312-4f8c-8877-9a4b59fdf27e",
   "metadata": {},
   "outputs": [],
   "source": [
    "# Calculating average temperatures, highest_hi_temp, lowest_hi_temp, highest_low_temp and lowest_low_temp\n",
    "\n",
    "def process_weather_lines(lines):\n",
    "    hi_temps = []\n",
    "    low_temps = []\n",
    "\n",
    "    for line in lines:\n",
    "        hi, low, _, _, _ = map(float, line.split())\n",
    "        hi_temps.append(hi)\n",
    "        low_temps.append(low)\n",
    "        avg_temps = [(hi + low) / 2 for hi, low in zip(hi_temps, low_temps)]\n",
    "        highest_hi = max(hi_temps)\n",
    "        lowest_hi = min(hi_temps)\n",
    "        highest_low = max(low_temps)\n",
    "        lowest_low = min(low_temps)\n",
    "    return avg_temps, highest_hi, lowest_hi, highest_low, lowest_low\n",
    "\n",
    "avg_temps, highest_hi, lowest_hi, highest_low, lowest_low = process_weather_lines(weather_data_list)"
   ]
  },
  {
   "cell_type": "code",
   "execution_count": 162,
   "id": "de68daee-5069-4a69-9434-4ea8cab7d21c",
   "metadata": {},
   "outputs": [],
   "source": [
    "# Writing the information to a new txt file.\n",
    "\n",
    "def write_output(filename, avg_temps, highest_hi, lowest_hi, highest_low, lowest_low):\n",
    "    with open(filename, \"w\") as outfile:\n",
    "        outfile.write(\"Day temp avg\\n\")\n",
    "        for day, avg_temp in enumerate(avg_temps, start=1):\n",
    "            outfile.write(f\"{day} {avg_temp:.1f}\\n\")\n",
    "            outfile.write(f\"Highest of Hi {highest_hi:.1f}\\n\")\n",
    "            outfile.write(f\"Highest of low {lowest_hi:.1f}\\n\")\n",
    "            outfile.write(f\"Highest of low {highest_low:.1f}\\n\")\n",
    "            outfile.write(f\"Lowest of low {lowest_low:.1f}\\n\")\n",
    "\n",
    "write_output('weather_data_summary.txt', avg_temps, highest_hi, lowest_hi, highest_low, lowest_low)\n",
    "            \n",
    "            \n",
    "            "
   ]
  },
  {
   "cell_type": "code",
   "execution_count": null,
   "id": "9884888d-f407-4ee6-ab2d-d02e1d7353a4",
   "metadata": {},
   "outputs": [],
   "source": []
  }
 ],
 "metadata": {
  "kernelspec": {
   "display_name": "Python 3 (ipykernel)",
   "language": "python",
   "name": "python3"
  },
  "language_info": {
   "codemirror_mode": {
    "name": "ipython",
    "version": 3
   },
   "file_extension": ".py",
   "mimetype": "text/x-python",
   "name": "python",
   "nbconvert_exporter": "python",
   "pygments_lexer": "ipython3",
   "version": "3.11.7"
  }
 },
 "nbformat": 4,
 "nbformat_minor": 5
}
